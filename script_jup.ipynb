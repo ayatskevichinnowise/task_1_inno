{
 "cells": [
  {
   "cell_type": "code",
   "execution_count": 1,
   "metadata": {},
   "outputs": [],
   "source": [
    "import json\n",
    "import psycopg2"
   ]
  },
  {
   "cell_type": "code",
   "execution_count": 2,
   "metadata": {},
   "outputs": [],
   "source": [
    "def load_json(file: str) -> list:\n",
    "    '''load and convert json'''\n",
    "    with open(file, 'r') as f:\n",
    "        return json.load(f)"
   ]
  },
  {
   "cell_type": "code",
   "execution_count": 3,
   "metadata": {},
   "outputs": [],
   "source": [
    "room_data = load_json('rooms.json')\n",
    "stud_data = load_json('students.json')"
   ]
  },
  {
   "cell_type": "code",
   "execution_count": 4,
   "metadata": {},
   "outputs": [],
   "source": [
    "def connection(dbname: str, user: str, \n",
    "               password: str, host: str, \n",
    "               port: str, autocommit: bool) -> None:\n",
    "    '''Establishing the connection and creating a cursor object'''\n",
    "    try:\n",
    "        conn = psycopg2.connect(\n",
    "            database=dbname, \n",
    "            user=user, \n",
    "            password=password, \n",
    "            host=host, \n",
    "            port= port\n",
    "        )\n",
    "\n",
    "        #Setting auto commit\n",
    "        conn.autocommit = autocommit\n",
    "\n",
    "        #Creating a cursor object using the cursor() method\n",
    "        global cursor\n",
    "        cursor = conn.cursor()\n",
    "        print('Connected succesfully')\n",
    "    except (Exception, psycopg2.Error) as error:\n",
    "        print(\"Failed to connect\", error)"
   ]
  },
  {
   "cell_type": "code",
   "execution_count": 5,
   "metadata": {},
   "outputs": [
    {
     "name": "stdout",
     "output_type": "stream",
     "text": [
      "Connected succesfully\n"
     ]
    }
   ],
   "source": [
    "connection(dbname=\"python_intro\", \n",
    "           user='postgres', \n",
    "           password='1', \n",
    "           host='localhost', \n",
    "           port= '5432',\n",
    "           autocommit=True)"
   ]
  },
  {
   "cell_type": "code",
   "execution_count": 6,
   "metadata": {},
   "outputs": [],
   "source": [
    "def insertion(data: list, table: str, columns: list) -> None:\n",
    "    '''Insertion data to database. Insertion is available after connection to database'''\n",
    "    try:\n",
    "        counter = 0\n",
    "        for row in data:\n",
    "            cursor.execute(f\"INSERT INTO {table} VALUES (\" + ('\\'{}\\', ' * len(columns))[:-2].format(*[row[col] for col in columns]) + \")\")\n",
    "            counter += 1\n",
    "        print(f'Sucessfully inserted {counter} rows')\n",
    "    except (Exception, psycopg2.Error) as error:\n",
    "        print(f\"Failed to insert records into {table} table\", error)"
   ]
  },
  {
   "cell_type": "code",
   "execution_count": 8,
   "metadata": {},
   "outputs": [
    {
     "name": "stdout",
     "output_type": "stream",
     "text": [
      "Sucessfully inserted 1000 rows\n"
     ]
    }
   ],
   "source": [
    "insertion(room_data, 'rooms', columns=['id', 'name'])"
   ]
  },
  {
   "cell_type": "code",
   "execution_count": 9,
   "metadata": {},
   "outputs": [
    {
     "name": "stdout",
     "output_type": "stream",
     "text": [
      "Sucessfully inserted 10000 rows\n"
     ]
    }
   ],
   "source": [
    "insertion(stud_data, 'students', columns=['id', 'name', 'room', 'sex', 'birthday'])"
   ]
  },
  {
   "cell_type": "code",
   "execution_count": 10,
   "metadata": {},
   "outputs": [],
   "source": [
    "def get_info(query: str, filename: str, indent: int=4) -> None:\n",
    "    '''Getting information from database and converting it to JSON file'''\n",
    "    cursor.execute(query)\n",
    "\n",
    "    info_from_db = cursor.fetchall()\n",
    "\n",
    "    # writing to json\n",
    "    with open(f\"{filename}.json\", \"w\") as file:\n",
    "        file.write(json.dumps(info_from_db, indent=indent))\n",
    "    print(f'File {filename}.json succesfully saved')"
   ]
  },
  {
   "cell_type": "code",
   "execution_count": 11,
   "metadata": {},
   "outputs": [
    {
     "name": "stdout",
     "output_type": "stream",
     "text": [
      "File query1.json succesfully saved\n"
     ]
    }
   ],
   "source": [
    "# list of rooms and count of students in that rooms. 1st query\n",
    "get_info(query = '''\n",
    "                SELECT \n",
    "                    r.room_id,\n",
    "                    r.room_name,\n",
    "                    COUNT(s.student_id) AS count_of_students\n",
    "                FROM rooms r \n",
    "                    LEFT JOIN students s USING(room_id)\n",
    "                GROUP BY 1 \n",
    "                ORDER BY 1\n",
    "                ''',\n",
    "         filename='query1')"
   ]
  },
  {
   "cell_type": "code",
   "execution_count": 12,
   "metadata": {},
   "outputs": [
    {
     "name": "stdout",
     "output_type": "stream",
     "text": [
      "File query2.json succesfully saved\n"
     ]
    }
   ],
   "source": [
    "# top 5 rooms with the smallest avg age of students in the rooms. 2nd query\n",
    "get_info(query = '''\n",
    "                SELECT \n",
    "                    *\n",
    "                FROM (\n",
    "                    SELECT \n",
    "                        *,\n",
    "                        ROW_NUMBER() OVER(ORDER BY avg_stud_age) AS placement\n",
    "                    FROM (\n",
    "                    \n",
    "                        SELECT \n",
    "                            r.room_id,\n",
    "                            r.room_name,\n",
    "                            ROUND(AVG(EXTRACT(YEAR FROM s.birthday)), 2) :: FLOAT AS avg_stud_age\n",
    "                        FROM rooms AS r\n",
    "                            JOIN students AS s USING(room_id) \n",
    "                        GROUP BY 1\n",
    "                ) AS tmp\n",
    "                    ) AS tmp2\n",
    "                WHERE placement < 6\n",
    "                ''',\n",
    "         filename='query2')"
   ]
  },
  {
   "cell_type": "code",
   "execution_count": 13,
   "metadata": {},
   "outputs": [
    {
     "name": "stdout",
     "output_type": "stream",
     "text": [
      "File query3.json succesfully saved\n"
     ]
    }
   ],
   "source": [
    "# top 5 rooms with the highest difference in age of students in the rooms. 3rd query\n",
    "get_info(query = '''\n",
    "                SELECT \n",
    "                    *\n",
    "                FROM (\n",
    "                    SELECT \n",
    "                        *,\n",
    "                        ROW_NUMBER() OVER(ORDER BY age_diff DESC) AS placement\n",
    "                    FROM (\n",
    "                    \n",
    "                        SELECT \n",
    "                            r.room_id,\n",
    "                            r.room_name,\n",
    "                            MAX(EXTRACT(YEAR FROM s.birthday)) - MIN(EXTRACT(YEAR FROM s.birthday)) :: FLOAT AS age_diff\n",
    "                        FROM rooms AS r\n",
    "                            JOIN students AS s USING(room_id) \n",
    "                        GROUP BY 1\n",
    "                        ) AS tmp\n",
    "                    ) AS tmp2\n",
    "                WHERE placement < 6\n",
    "                ''',\n",
    "         filename='query3')"
   ]
  },
  {
   "cell_type": "code",
   "execution_count": 14,
   "metadata": {},
   "outputs": [
    {
     "name": "stdout",
     "output_type": "stream",
     "text": [
      "File query4.json succesfully saved\n"
     ]
    }
   ],
   "source": [
    "# list of rooms with different sex in one room. 4th query\n",
    "get_info(query = '''\n",
    "                SELECT room_name \n",
    "                FROM (\n",
    "                        SELECT \n",
    "                            r.room_id,\n",
    "                            r.room_name,\n",
    "                            COUNT(DISTINCT s.sex) AS gender_variety\n",
    "                        FROM rooms AS r\n",
    "                            JOIN students AS s USING(room_id) \n",
    "                        GROUP BY 1\n",
    "                        HAVING COUNT(DISTINCT s.sex) > 1 \n",
    "                    ) AS tmp\n",
    "                ''',\n",
    "         filename='query4')"
   ]
  },
  {
   "cell_type": "code",
   "execution_count": 15,
   "metadata": {},
   "outputs": [],
   "source": [
    "# !pip freeze > requirements.txt"
   ]
  },
  {
   "cell_type": "code",
   "execution_count": null,
   "metadata": {},
   "outputs": [],
   "source": []
  }
 ],
 "metadata": {
  "kernelspec": {
   "display_name": "Python 3",
   "language": "python",
   "name": "python3"
  },
  "language_info": {
   "codemirror_mode": {
    "name": "ipython",
    "version": 3
   },
   "file_extension": ".py",
   "mimetype": "text/x-python",
   "name": "python",
   "nbconvert_exporter": "python",
   "pygments_lexer": "ipython3",
   "version": "3.10.0 (tags/v3.10.0:b494f59, Oct  4 2021, 19:00:18) [MSC v.1929 64 bit (AMD64)]"
  },
  "orig_nbformat": 4,
  "vscode": {
   "interpreter": {
    "hash": "ff34866746759a34b39383e768bab9d37442c941fc450b227860c81e83a70852"
   }
  }
 },
 "nbformat": 4,
 "nbformat_minor": 2
}
