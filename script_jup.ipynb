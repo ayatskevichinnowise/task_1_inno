{
 "cells": [
  {
   "cell_type": "code",
   "execution_count": 2,
   "metadata": {},
   "outputs": [],
   "source": [
    "import json"
   ]
  },
  {
   "cell_type": "code",
   "execution_count": 28,
   "metadata": {},
   "outputs": [],
   "source": [
    "with open('rooms.json', 'r') as file:\n",
    "    room_data = json.load(file)"
   ]
  },
  {
   "cell_type": "code",
   "execution_count": 103,
   "metadata": {},
   "outputs": [],
   "source": [
    "with open('students.json', 'r') as file:\n",
    "    stud_data = json.load(file)"
   ]
  },
  {
   "cell_type": "code",
   "execution_count": 39,
   "metadata": {},
   "outputs": [],
   "source": [
    "# connection\n",
    "import psycopg2\n",
    "\n",
    "#Establishing the connection\n",
    "conn = psycopg2.connect(\n",
    "   database=\"python_intro\", \n",
    "   user='postgres', \n",
    "   password='1', \n",
    "   host='localhost', \n",
    "   port= '5432'\n",
    ")\n",
    "#Setting auto commit false\n",
    "conn.autocommit = True\n",
    "\n",
    "#Creating a cursor object using the cursor() method\n",
    "cursor = conn.cursor()"
   ]
  },
  {
   "cell_type": "code",
   "execution_count": 114,
   "metadata": {},
   "outputs": [
    {
     "name": "stdout",
     "output_type": "stream",
     "text": [
      "Sucessfully inserted 1000 rows\n"
     ]
    }
   ],
   "source": [
    "# insertion room data\n",
    "try:\n",
    "    counter = 0\n",
    "    for i in room_data:\n",
    "        cursor.execute(f\"INSERT INTO rooms VALUES ({i['id']}, '{i['name']}')\")\n",
    "        counter += 1\n",
    "    print(f'Sucessfully inserted {counter} rows')\n",
    "except (Exception, psycopg2.Error) as error:\n",
    "    print(\"Failed to insert record into mobile table\", error)"
   ]
  },
  {
   "cell_type": "code",
   "execution_count": 116,
   "metadata": {},
   "outputs": [
    {
     "name": "stdout",
     "output_type": "stream",
     "text": [
      "Sucessfully inserted 10000 rows\n"
     ]
    }
   ],
   "source": [
    "# insertion student data in students table and student_room table\n",
    "try:\n",
    "    counter = 0\n",
    "    for i in stud_data:\n",
    "        cursor.execute(f\"INSERT INTO students VALUES ({i['id']}, '{i['name']}', '{i['room']}', '{i['sex']}', '{i['birthday']}')\")\n",
    "        cursor.execute(f\"INSERT INTO student_room VALUES ({i['id']}, '{i['room']}')\")\n",
    "        counter += 1\n",
    "    print(f'Sucessfully inserted {counter} rows')\n",
    "except (Exception, psycopg2.Error) as error:\n",
    "    print(\"Failed to insert record into mobile table\", error)"
   ]
  },
  {
   "cell_type": "code",
   "execution_count": 123,
   "metadata": {},
   "outputs": [],
   "source": [
    "# list of rooms and count of students in that rooms. 1st query\n",
    "cursor.execute('''\n",
    "                SELECT \n",
    "                    r.room_id,\n",
    "                    r.room_name,\n",
    "                    COUNT(s.student_id) AS count_of_students\n",
    "                FROM rooms r \n",
    "                    LEFT JOIN students s USING(room_id)\n",
    "                GROUP BY 1 \n",
    "                ORDER BY 1\n",
    "                ''')\n",
    "\n",
    "rooms_stud_count = cursor.fetchall()\n",
    "\n",
    "# writing to json\n",
    "with open(\"query1.json\", \"w\") as file:\n",
    "    file.write(json.dumps(rooms_stud_count, indent=4))"
   ]
  },
  {
   "cell_type": "code",
   "execution_count": 126,
   "metadata": {},
   "outputs": [],
   "source": [
    "# top 5 rooms with the smallest avg age of students in the rooms. 2nd query\n",
    "cursor.execute('''\n",
    "                SELECT \n",
    "                    *\n",
    "                FROM (\n",
    "                    SELECT \n",
    "                        *,\n",
    "                        ROW_NUMBER() OVER(ORDER BY avg_stud_age) AS placement\n",
    "                    FROM (\n",
    "                    \n",
    "                        SELECT \n",
    "                            r.room_id,\n",
    "                            r.room_name,\n",
    "                            ROUND(AVG(EXTRACT(YEAR FROM s.birthday)), 2) :: FLOAT AS avg_stud_age\n",
    "                        FROM rooms AS r\n",
    "                            JOIN students AS s USING(room_id) \n",
    "                        GROUP BY 1\n",
    "                ) AS tmp\n",
    "                    ) AS tmp2\n",
    "                WHERE placement < 6\n",
    "                ''')\n",
    "\n",
    "top_5_small_age = cursor.fetchall()\n",
    "# writing to json\n",
    "with open(\"query2.json\", \"w\") as file:\n",
    "    file.write(json.dumps(top_5_small_age, indent=4))"
   ]
  },
  {
   "cell_type": "code",
   "execution_count": 127,
   "metadata": {},
   "outputs": [],
   "source": [
    "# top 5 rooms with the highest difference in age of students in the rooms. 3rd query\n",
    "cursor.execute('''\n",
    "                SELECT \n",
    "                    *\n",
    "                FROM (\n",
    "                    SELECT \n",
    "                        *,\n",
    "                        ROW_NUMBER() OVER(ORDER BY age_diff DESC) AS placement\n",
    "                    FROM (\n",
    "                    \n",
    "                        SELECT \n",
    "                            r.room_id,\n",
    "                            r.room_name,\n",
    "                            MAX(EXTRACT(YEAR FROM s.birthday)) - MIN(EXTRACT(YEAR FROM s.birthday)) :: FLOAT AS age_diff\n",
    "                        FROM rooms AS r\n",
    "                            JOIN students AS s USING(room_id) \n",
    "                        GROUP BY 1\n",
    "                        ) AS tmp\n",
    "                    ) AS tmp2\n",
    "                WHERE placement < 6\n",
    "                ''')\n",
    "\n",
    "top_5_big_age_diff = cursor.fetchall()\n",
    "\n",
    "# writing to json\n",
    "with open(\"query3.json\", \"w\") as file:\n",
    "    file.write(json.dumps(top_5_big_age_diff, indent=4))"
   ]
  },
  {
   "cell_type": "code",
   "execution_count": 128,
   "metadata": {},
   "outputs": [],
   "source": [
    "# list of rooms with different sex in one room. 4th query\n",
    "cursor.execute('''\n",
    "                SELECT room_name \n",
    "                FROM (\n",
    "                        SELECT \n",
    "                            r.room_id,\n",
    "                            r.room_name,\n",
    "                            COUNT(DISTINCT s.sex) AS gender_variety\n",
    "                        FROM rooms AS r\n",
    "                            JOIN students AS s USING(room_id) \n",
    "                        GROUP BY 1\n",
    "                        HAVING COUNT(DISTINCT s.sex) > 1 \n",
    "                    ) AS tmp \n",
    "                ''')\n",
    "\n",
    "diff_gender_room = cursor.fetchall()\n",
    "\n",
    "# writing to json\n",
    "with open(\"query4.json\", \"w\") as file:\n",
    "    file.write(json.dumps(diff_gender_room, indent=4))"
   ]
  },
  {
   "cell_type": "code",
   "execution_count": null,
   "metadata": {},
   "outputs": [],
   "source": []
  }
 ],
 "metadata": {
  "kernelspec": {
   "display_name": "Python 3",
   "language": "python",
   "name": "python3"
  },
  "language_info": {
   "codemirror_mode": {
    "name": "ipython",
    "version": 3
   },
   "file_extension": ".py",
   "mimetype": "text/x-python",
   "name": "python",
   "nbconvert_exporter": "python",
   "pygments_lexer": "ipython3",
   "version": "3.10.0"
  },
  "orig_nbformat": 4,
  "vscode": {
   "interpreter": {
    "hash": "ff34866746759a34b39383e768bab9d37442c941fc450b227860c81e83a70852"
   }
  }
 },
 "nbformat": 4,
 "nbformat_minor": 2
}
